{
 "cells": [
  {
   "cell_type": "code",
   "execution_count": null,
   "metadata": {
    "_cell_guid": "b1076dfc-b9ad-4769-8c92-a6c4dae69d19",
    "_uuid": "8f2839f25d086af736a60e9eeb907d3b93b6e0e5",
    "execution": {
     "iopub.execute_input": "2021-09-22T12:13:36.034022Z",
     "iopub.status.busy": "2021-09-22T12:13:36.033674Z",
     "iopub.status.idle": "2021-09-22T12:13:36.043995Z",
     "shell.execute_reply": "2021-09-22T12:13:36.04268Z",
     "shell.execute_reply.started": "2021-09-22T12:13:36.033987Z"
    },
    "id": "Q_NNDAdXjh-v"
   },
   "outputs": [],
   "source": []
  },
  {
   "cell_type": "code",
   "execution_count": 1,
   "metadata": {
    "execution": {
     "iopub.execute_input": "2021-09-22T12:13:36.046223Z",
     "iopub.status.busy": "2021-09-22T12:13:36.045669Z",
     "iopub.status.idle": "2021-09-22T12:13:36.060635Z",
     "shell.execute_reply": "2021-09-22T12:13:36.059115Z",
     "shell.execute_reply.started": "2021-09-22T12:13:36.046186Z"
    },
    "id": "KhLBhBcSjh-y"
   },
   "outputs": [],
   "source": [
    "## Load the liberaries\n",
    "import pandas as pd\n",
    "import numpy as np\n",
    "import matplotlib.pyplot as plt\n",
    "import pyodbc \n",
    "import time"
   ]
  },
  {
   "cell_type": "code",
   "execution_count": 2,
   "metadata": {
    "execution": {
     "iopub.execute_input": "2021-09-22T12:13:36.06278Z",
     "iopub.status.busy": "2021-09-22T12:13:36.062404Z",
     "iopub.status.idle": "2021-09-22T12:13:36.07343Z",
     "shell.execute_reply": "2021-09-22T12:13:36.072415Z",
     "shell.execute_reply.started": "2021-09-22T12:13:36.062736Z"
    },
    "id": "WOZxEQE7jh-0"
   },
   "outputs": [
    {
     "name": "stdout",
     "output_type": "stream",
     "text": [
      "Database Connected\n"
     ]
    }
   ],
   "source": [
    "# Connect to Database\n",
    "\n",
    "server = 'AUSTRALIA-PC\\SQLEXPRESS' \n",
    "database = 'IPL' \n",
    "username = 'sa' \n",
    "password = 'admin' \n",
    "conn = pyodbc.connect('DRIVER={ODBC Driver 17 for SQL Server};SERVER='+server+';DATABASE='+database+';UID='+username+';PWD='+ password)\n",
    "\n",
    "print(\"Database Connected\")\n",
    "\n"
   ]
  },
  {
   "cell_type": "code",
   "execution_count": 3,
   "metadata": {},
   "outputs": [],
   "source": [
    "def plot_query_results(cursor, query, iters, plot_color):\n",
    "    times = []\n",
    "\n",
    "    for i in range(iters):\n",
    "        start = time.time()\n",
    "        cursor.execute(query)\n",
    "        rows = cursor.fetchall()\n",
    "        end = time.time()\n",
    "\n",
    "        times.append(end - start)\n",
    "\n",
    "    print(np.mean(times))\n",
    "    plt.plot(range(iters), times, color=plot_color)"
   ]
  },
  {
   "cell_type": "code",
   "execution_count": 4,
   "metadata": {
    "colab": {
     "base_uri": "https://localhost:8080/"
    },
    "execution": {
     "iopub.execute_input": "2021-09-22T12:13:36.07568Z",
     "iopub.status.busy": "2021-09-22T12:13:36.075327Z",
     "iopub.status.idle": "2021-09-22T12:13:36.110208Z",
     "shell.execute_reply": "2021-09-22T12:13:36.109108Z",
     "shell.execute_reply.started": "2021-09-22T12:13:36.075635Z"
    },
    "id": "cIiAHATZjh-0",
    "outputId": "11357516-3f80-4da0-a244-50ea4ead4cdf"
   },
   "outputs": [
    {
     "name": "stdout",
     "output_type": "stream",
     "text": [
      "['Player', 'Extra_Runs', 'Batsman_Scored', 'Batting_Style', 'Bowling_Style', 'Country', 'Season', 'City', 'Outcome', 'Win_By', 'Wicket_Taken', 'Venue', 'Extra_Type', 'Out_Type', 'Toss_Decision', 'Umpire', 'Team', 'Ball_by_Ball', 'sysdiagrams', 'Match', 'Rolee', 'Player_Match']\n",
      "Total time taken :: 0.30942630767822266\n"
     ]
    }
   ],
   "source": [
    "## Read Master File and all the tables form the database\n",
    "\n",
    "start = time.time()\n",
    "\n",
    "master_table = pd.read_sql(\"\"\"SELECT * FROM information_schema.tables;;\"\"\", conn)\n",
    "print(master_table.TABLE_NAME.to_list())\n",
    "\n",
    "end = time.time()\n",
    "print(\"Total time taken ::\", end - start)"
   ]
  },
  {
   "cell_type": "code",
   "execution_count": 5,
   "metadata": {
    "colab": {
     "base_uri": "https://localhost:8080/"
    },
    "execution": {
     "iopub.execute_input": "2021-09-22T12:13:36.113289Z",
     "iopub.status.busy": "2021-09-22T12:13:36.112703Z",
     "iopub.status.idle": "2021-09-22T12:13:38.946098Z",
     "shell.execute_reply": "2021-09-22T12:13:38.944952Z",
     "shell.execute_reply.started": "2021-09-22T12:13:36.113248Z"
    },
    "id": "S-ntu__Zjh-2",
    "outputId": "079118f9-b914-4f5f-ce35-a999451c9787",
    "scrolled": true
   },
   "outputs": [
    {
     "name": "stdout",
     "output_type": "stream",
     "text": [
      "Total time taken :: 2.01023530960083\n",
      "The colums for Player_table are: ['Player_Id', 'Player_Name', 'DOB', 'Batting_hand', 'Bowling_skill', 'Country_Name']\n",
      "The colums for Extra_Runs_table are: ['Match_Id', 'Over_Id', 'Ball_Id', 'Extra_Type_Id', 'Extra_Runs', 'Innings_No']\n",
      "The colums for Batsman_Scored_table are: ['Match_Id', 'Over_Id', 'Ball_Id', 'Runs_Scored', 'Innings_No']\n",
      "The colums for Batting_Style_table are: ['Batting_Id', 'Batting_hand']\n",
      "The colums for Bowling_Style_table are: ['Bowling_Id', 'Bowling_skill']\n",
      "The colums for Country_table are: ['Country_Id', 'Country_Name']\n",
      "The colums for Season_table: ['Season_Id', 'Man_of_the_Series', 'Orange_Cap', 'Purple_Cap', 'Season_Year']\n",
      "The colums for City_table: ['City_Id', 'City_Name', 'Country_id']\n",
      "The colums for Outcome_table: ['Outcome_Id', 'Outcome_Type']\n",
      "The colums for Win_By_table: ['Win_Id', 'Win_Type']\n",
      "The colums for Wicket_Taken_table: ['Match_Id', 'Over_Id', 'Ball_Id', 'Player_Out', 'Kind_Out', 'Fielders', 'Innings_No']\n",
      "The colums for Venue_table: ['Venue_Id', 'Venue_Name', 'City_Id']\n",
      "The colums for Extra_Type_table: ['Extra_Id', 'Extra_Name']\n",
      "The colums for Out_Type_table: ['Out_Id', 'Out_Name']\n",
      "The colums for Toss_Decision_table: ['Toss_Id', 'Toss_Name']\n",
      "The colums for Umpire_table: ['Umpire_Id', 'Umpire_Name', 'Umpire_Country']\n",
      "The colums for Team_table: ['Team_Id', 'Team_Name']\n",
      "The colums for Ball_by_Ball_table: ['Match_Id', 'Over_Id', 'Ball_Id', 'Innings_No', 'Team_Batting', 'Team_Bowling', 'Striker_Batting_Position', 'Striker', 'Non_Striker', 'Bowler']\n",
      "The colums for Match_table: ['Match_Id', 'Team_1', 'Team_2', 'Match_Date', 'Season_Id', 'Venue_Id', 'Toss_Winner', 'Toss_Decide', 'Win_Type', 'Win_Margin', 'Outcome_type', 'Match_Winner', 'Man_of_the_Match']\n",
      "The colums for Rolee_table: ['Role_Id', 'Role_Desc']\n",
      "The colums for Player_Match_table: ['Match_Id', 'Player_Id', 'Role_Id', 'Team_Id']\n"
     ]
    }
   ],
   "source": [
    "## Read all tables and print table colummns, this reference will help us understanding common columns amongst the tables\n",
    "total_times = []\n",
    "start = time.time()\n",
    "\n",
    "Player_table= pd.read_sql(\"\"\"SELECT *\n",
    "                        FROM Player;\"\"\", conn)\n",
    "Extra_Runs_table= pd.read_sql(\"\"\"SELECT *\n",
    "                        FROM extra_runs;\"\"\", conn)\n",
    "Batsman_Scored_table= pd.read_sql(\"\"\"SELECT *\n",
    "                        FROM Batsman_Scored;\"\"\", conn)\n",
    "Batting_Style_table= pd.read_sql(\"\"\"SELECT *\n",
    "                        FROM Batting_Style;\"\"\", conn)\n",
    "Bowling_Style_table= pd.read_sql(\"\"\"SELECT *\n",
    "                        FROM Bowling_Style;\"\"\", conn)\n",
    "Bowling_Style_table= pd.read_sql(\"\"\"SELECT *\n",
    "                        FROM Bowling_Style;\"\"\", conn)\n",
    "Country_table= pd.read_sql(\"\"\"SELECT *\n",
    "                        FROM Country;\"\"\", conn)\n",
    "Season_table= pd.read_sql(\"\"\"SELECT *\n",
    "                        FROM Season;\"\"\", conn)\n",
    "City_table= pd.read_sql(\"\"\"SELECT *\n",
    "                        FROM City;\"\"\", conn)\n",
    "Outcome_table= pd.read_sql(\"\"\"SELECT *\n",
    "                        FROM Outcome;\"\"\", conn)\n",
    "Win_By_table= pd.read_sql(\"\"\"SELECT *\n",
    "                        FROM Win_By;\"\"\", conn)\n",
    "Wicket_Taken_table= pd.read_sql(\"\"\"SELECT *\n",
    "                        FROM Wicket_Taken;\"\"\", conn)\n",
    "Venue_table= pd.read_sql(\"\"\"SELECT *\n",
    "                        FROM Venue;\"\"\", conn)\n",
    "Extra_Type_table= pd.read_sql(\"\"\"SELECT *\n",
    "                        FROM Extra_Type;\"\"\", conn)\n",
    "Out_Type_table= pd.read_sql(\"\"\"SELECT *\n",
    "                        FROM Out_Type;\"\"\", conn)\n",
    "Toss_Decision_table= pd.read_sql(\"\"\"SELECT *\n",
    "                        FROM Toss_Decision;\"\"\", conn)\n",
    "Umpire_table= pd.read_sql(\"\"\"SELECT *\n",
    "                        FROM Umpire;\"\"\", conn)\n",
    "Team_table= pd.read_sql(\"\"\"SELECT *\n",
    "                        FROM Team;\"\"\", conn)\n",
    "Ball_by_Ball_table= pd.read_sql(\"\"\"SELECT *\n",
    "                        FROM Ball_by_Ball;\"\"\", conn)\n",
    "Match_table= pd.read_sql(\"\"\"SELECT *\n",
    "                        FROM Match;\"\"\", conn)\n",
    "Rolee_table= pd.read_sql(\"\"\"SELECT *\n",
    "                        FROM Rolee;\"\"\", conn)\n",
    "Player_Match_table= pd.read_sql(\"\"\"SELECT *\n",
    "                        FROM Player_Match;\"\"\", conn)\n",
    "\n",
    "end = time.time()\n",
    "print(\"Total time taken ::\", end - start)\n",
    "total_times.append(end - start)\n",
    "\n",
    "print('The colums for Player_table are:',Player_table.columns.to_list())\n",
    "print('The colums for Extra_Runs_table are:',Extra_Runs_table.columns.to_list())\n",
    "print('The colums for Batsman_Scored_table are:',Batsman_Scored_table.columns.to_list())\n",
    "print('The colums for Batting_Style_table are:',Batting_Style_table.columns.to_list())\n",
    "print('The colums for Bowling_Style_table are:',Bowling_Style_table.columns.to_list())\n",
    "print('The colums for Country_table are:',Country_table.columns.to_list())\n",
    "print('The colums for Season_table:',Season_table.columns.to_list())\n",
    "print('The colums for City_table:',City_table.columns.to_list())\n",
    "print('The colums for Outcome_table:',Outcome_table.columns.to_list())\n",
    "print('The colums for Win_By_table:',Win_By_table.columns.to_list())\n",
    "print('The colums for Wicket_Taken_table:',Wicket_Taken_table.columns.to_list())\n",
    "print('The colums for Venue_table:',Venue_table.columns.to_list())\n",
    "print('The colums for Extra_Type_table:',Extra_Type_table.columns.to_list())\n",
    "print('The colums for Out_Type_table:',Out_Type_table.columns.to_list())\n",
    "print('The colums for Toss_Decision_table:',Toss_Decision_table.columns.to_list())\n",
    "print('The colums for Umpire_table:',Umpire_table.columns.to_list())\n",
    "print('The colums for Team_table:',Team_table.columns.to_list())\n",
    "print('The colums for Ball_by_Ball_table:',Ball_by_Ball_table.columns.to_list())\n",
    "print('The colums for Match_table:',Match_table.columns.to_list())\n",
    "print('The colums for Rolee_table:',Rolee_table.columns.to_list())\n",
    "print('The colums for Player_Match_table:',Player_Match_table.columns.to_list())"
   ]
  },
  {
   "cell_type": "code",
   "execution_count": null,
   "metadata": {},
   "outputs": [],
   "source": []
  },
  {
   "cell_type": "code",
   "execution_count": 6,
   "metadata": {
    "colab": {
     "base_uri": "https://localhost:8080/",
     "height": 175
    },
    "execution": {
     "iopub.execute_input": "2021-09-22T12:13:39.008754Z",
     "iopub.status.busy": "2021-09-22T12:13:39.008487Z",
     "iopub.status.idle": "2021-09-22T12:13:39.023173Z",
     "shell.execute_reply": "2021-09-22T12:13:39.022284Z",
     "shell.execute_reply.started": "2021-09-22T12:13:39.008726Z"
    },
    "id": "cZmxZn27jh-5",
    "outputId": "7a11e3bb-a086-4992-84c1-f6ac953de9b2"
   },
   "outputs": [
    {
     "name": "stdout",
     "output_type": "stream",
     "text": [
      "Total time taken :: 0.003990650177001953\n",
      "0.00025458812713623045\n"
     ]
    },
    {
     "data": {
      "image/png": "[encoded data removed]",
      "text/plain": [
       "<Figure size 432x288 with 1 Axes>"
      ]
     },
     "metadata": {
      "needs_background": "light"
     },
     "output_type": "display_data"
    }
   ],
   "source": [
    "## Select distinct of Role_id column from player's table\n",
    "##Work\n",
    "\n",
    "query = \"select * from rolee\"\n",
    "cursor = conn.cursor()\n",
    "start = time.time()\n",
    "sql = pd.read_sql(\"\"\"SELECT * from rolee;\"\"\", conn)\n",
    "end = time.time()\n",
    "\n",
    "print(\"Total time taken ::\", end - start)\n",
    "total_times.append(end - start)\n",
    "\n",
    "sql.head()\n",
    "\n",
    "plot_query_results(cursor,query,100,'blue')"
   ]
  },
  {
   "cell_type": "code",
   "execution_count": 7,
   "metadata": {
    "colab": {
     "base_uri": "https://localhost:8080/",
     "height": 81
    },
    "execution": {
     "iopub.execute_input": "2021-09-22T12:13:39.150397Z",
     "iopub.status.busy": "2021-09-22T12:13:39.149822Z",
     "iopub.status.idle": "2021-09-22T12:13:39.954611Z",
     "shell.execute_reply": "2021-09-22T12:13:39.953542Z",
     "shell.execute_reply.started": "2021-09-22T12:13:39.150359Z"
    },
    "id": "h5dDyoeLjh-7",
    "outputId": "cd58a5db-9d64-4186-d166-3156fb17fbbe"
   },
   "outputs": [
    {
     "name": "stdout",
     "output_type": "stream",
     "text": [
      "Total time taken :: 0.9145336151123047\n",
      "0.0004153776168823242\n"
     ]
    },
    {
     "data": {
      "image/png": "[encoded data removed]",
      "text/plain": [
       "<Figure size 432x288 with 1 Axes>"
      ]
     },
     "metadata": {
      "needs_background": "light"
     },
     "output_type": "display_data"
    }
   ],
   "source": [
    "## Ten highest run gettters in IPL between 2008 - 2016 \n",
    "cursor = conn.cursor()\n",
    "start = time.time()\n",
    "sql = pd.read_sql(\"\"\"SELECT TOP 10\n",
    "  A.Match_Id,\n",
    "  C.Player_Name,\n",
    "  SUM(B.Runs_Scored) AS 'Runs'\n",
    "FROM Ball_by_Ball A\n",
    "INNER JOIN Batsman_Scored B\n",
    "  ON CONCAT(A.Match_Id, A.Over_Id, A.Ball_Id, A.Innings_No)\n",
    "  = CONCAT(B.Match_Id, B.Over_Id, B.Ball_Id, B.Innings_No)\n",
    "INNER JOIN Player C\n",
    "  ON A.Striker = C.Player_Id\n",
    "\n",
    "GROUP BY A.Match_Id,\n",
    "         C.Player_Name\n",
    "ORDER BY Runs DESC\"\"\", conn)\n",
    "end = time.time()\n",
    "\n",
    "print(\"Total time taken ::\", end - start)\n",
    "sql.head()\n",
    "\n",
    "total_times.append(end - start)\n",
    "plot_query_results(cursor,query,50,'orange')\n",
    "\n",
    "cursor.close()"
   ]
  },
  {
   "cell_type": "code",
   "execution_count": 8,
   "metadata": {},
   "outputs": [
    {
     "name": "stdout",
     "output_type": "stream",
     "text": [
      "Total time taken :: 1.4370982646942139\n",
      "1.2120677185058595\n"
     ]
    },
    {
     "data": {
      "image/png": "[encoded data removed]",
      "text/plain": [
       "<Figure size 432x288 with 1 Axes>"
      ]
     },
     "metadata": {
      "needs_background": "light"
     },
     "output_type": "display_data"
    }
   ],
   "source": [
    "## Ten highest run gettters in IPL between 2008 - 2016 \n",
    "cursor = conn.cursor()\n",
    "start = time.time()\n",
    "query = \"\"\"SELECT TOP 10\n",
    "  A.Match_Id,\n",
    "  C.Player_Name,\n",
    "  SUM(B.Runs_Scored) AS 'Runs'\n",
    "FROM Ball_by_Ball A\n",
    "INNER JOIN Batsman_Scored B\n",
    "  ON CONCAT(A.Match_Id, A.Over_Id, A.Ball_Id, A.Innings_No)\n",
    "  = CONCAT(B.Match_Id, B.Over_Id, B.Ball_Id, B.Innings_No)\n",
    "INNER JOIN Player C\n",
    "  ON A.Striker = C.Player_Id\n",
    "\n",
    "GROUP BY A.Match_Id,\n",
    "         C.Player_Name\n",
    "ORDER BY Runs DESC\"\"\"\n",
    "sql = pd.read_sql(query , conn)\n",
    "end = time.time()\n",
    "total_times.append(end - start)\n",
    "print(\"Total time taken ::\", end - start)\n",
    "sql.head()\n",
    "\n",
    "\n",
    "plot_query_results(cursor,query,50,'orange')\n",
    "\n",
    "cursor.close()"
   ]
  },
  {
   "cell_type": "code",
   "execution_count": 9,
   "metadata": {},
   "outputs": [
    {
     "name": "stdout",
     "output_type": "stream",
     "text": [
      "Total time taken :: 0.838385820388794\n",
      "1.174007487297058\n"
     ]
    },
    {
     "data": {
      "image/png": "[encoded data removed]",
      "text/plain": [
       "<Figure size 432x288 with 1 Axes>"
      ]
     },
     "metadata": {
      "needs_background": "light"
     },
     "output_type": "display_data"
    }
   ],
   "source": [
    "## Most Centuries scored : Player wise\n",
    "\n",
    "cursor = conn.cursor()\n",
    "start = time.time()\n",
    "query =\"\"\"WITH CTE (Match_Id, Player_Name, Runs)\n",
    "AS (SELECT\n",
    "  A.Match_Id,\n",
    "  C.Player_Name,\n",
    "  SUM(B.Runs_Scored) AS 'Runs'\n",
    "FROM Ball_by_Ball A\n",
    "INNER JOIN Batsman_Scored B\n",
    "  ON CONCAT(A.Match_Id, A.Over_Id, A.Ball_Id, A.Innings_No)\n",
    "  = CONCAT(B.Match_Id, B.Over_Id, B.Ball_Id, B.Innings_No)\n",
    "INNER JOIN Player C\n",
    "  ON A.Striker = C.Player_Id\n",
    "GROUP BY A.Match_Id,\n",
    "         C.Player_Name\n",
    "HAVING SUM(B.Runs_Scored) >= 100)\n",
    "\n",
    "SELECT\n",
    "  Player_Name,\n",
    "  COUNT(*) AS 'Centuries'\n",
    "FROM CTE\n",
    "GROUP BY Player_Name\n",
    "ORDER BY Centuries DESC\"\"\"\n",
    "sql = pd.read_sql(query, conn)\n",
    "end = time.time()\n",
    "print(\"Total time taken ::\", end - start)\n",
    "total_times.append(end - start)\n",
    "plot_query_results(cursor,query,50,'green')\n",
    "sql.head()\n",
    "cursor.close()"
   ]
  },
  {
   "cell_type": "code",
   "execution_count": 10,
   "metadata": {},
   "outputs": [
    {
     "name": "stdout",
     "output_type": "stream",
     "text": [
      "Total time taken :: 0.24974799156188965\n"
     ]
    },
    {
     "data": {
      "text/html": [
       "<div>\n",
       "<style scoped>\n",
       "    .dataframe tbody tr th:only-of-type {\n",
       "        vertical-align: middle;\n",
       "    }\n",
       "\n",
       "    .dataframe tbody tr th {\n",
       "        vertical-align: top;\n",
       "    }\n",
       "\n",
       "    .dataframe thead th {\n",
       "        text-align: right;\n",
       "    }\n",
       "</style>\n",
       "<table border=\"1\" class=\"dataframe\">\n",
       "  <thead>\n",
       "    <tr style=\"text-align: right;\">\n",
       "      <th></th>\n",
       "      <th>Player_Name</th>\n",
       "      <th>Wickets_Taken</th>\n",
       "    </tr>\n",
       "  </thead>\n",
       "  <tbody>\n",
       "    <tr>\n",
       "      <th>0</th>\n",
       "      <td>SL Malinga</td>\n",
       "      <td>143</td>\n",
       "    </tr>\n",
       "    <tr>\n",
       "      <th>1</th>\n",
       "      <td>A Mishra</td>\n",
       "      <td>124</td>\n",
       "    </tr>\n",
       "    <tr>\n",
       "      <th>2</th>\n",
       "      <td>DJ Bravo</td>\n",
       "      <td>122</td>\n",
       "    </tr>\n",
       "    <tr>\n",
       "      <th>3</th>\n",
       "      <td>PP Chawla</td>\n",
       "      <td>120</td>\n",
       "    </tr>\n",
       "    <tr>\n",
       "      <th>4</th>\n",
       "      <td>Harbhajan Singh</td>\n",
       "      <td>119</td>\n",
       "    </tr>\n",
       "  </tbody>\n",
       "</table>\n",
       "</div>"
      ],
      "text/plain": [
       "       Player_Name  Wickets_Taken\n",
       "0       SL Malinga            143\n",
       "1         A Mishra            124\n",
       "2         DJ Bravo            122\n",
       "3        PP Chawla            120\n",
       "4  Harbhajan Singh            119"
      ]
     },
     "execution_count": 10,
     "metadata": {},
     "output_type": "execute_result"
    }
   ],
   "source": [
    "## Highest Wicket Takers in IPL history\n",
    "start = time.time()\n",
    "sql = pd.read_sql(\"\"\" SELECT C.Player_Name , COUNT(*) As 'Wickets_Taken'\n",
    "\t\tFROM Ball_by_Ball A\n",
    "\t\t\tINNER JOIN Wicket_Taken B\n",
    "\t\t\t\tON CONCAT(A.Match_Id,A.Over_Id,A.Ball_Id,A.Innings_No)\n",
    "\t\t\t\t\t= CONCAT(B.Match_Id,B.Over_Id ,B.Ball_Id ,B.Innings_No)\n",
    "\t\t\tINNER JOIN Player C\n",
    "\t\t\t\tON A.Bowler = C.Player_Id\n",
    "\t\tWHERE B.Kind_Out NOT IN (3,5,9)\n",
    "\t\tGROUP BY C.Player_Name\n",
    "\t\tORDER BY Wickets_Taken DESC\"\"\", conn)\n",
    "end = time.time()\n",
    "total_times.append(end - start)\n",
    "print(\"Total time taken ::\", end - start)\n",
    "sql.head()"
   ]
  },
  {
   "cell_type": "code",
   "execution_count": 11,
   "metadata": {},
   "outputs": [
    {
     "name": "stdout",
     "output_type": "stream",
     "text": [
      "Total time taken :: 0.02548384666442871\n"
     ]
    },
    {
     "data": {
      "text/html": [
       "<div>\n",
       "<style scoped>\n",
       "    .dataframe tbody tr th:only-of-type {\n",
       "        vertical-align: middle;\n",
       "    }\n",
       "\n",
       "    .dataframe tbody tr th {\n",
       "        vertical-align: top;\n",
       "    }\n",
       "\n",
       "    .dataframe thead th {\n",
       "        text-align: right;\n",
       "    }\n",
       "</style>\n",
       "<table border=\"1\" class=\"dataframe\">\n",
       "  <thead>\n",
       "    <tr style=\"text-align: right;\">\n",
       "      <th></th>\n",
       "      <th>Player_Name</th>\n",
       "      <th>Matches_captained</th>\n",
       "    </tr>\n",
       "  </thead>\n",
       "  <tbody>\n",
       "    <tr>\n",
       "      <th>0</th>\n",
       "      <td>MS Dhoni</td>\n",
       "      <td>142</td>\n",
       "    </tr>\n",
       "    <tr>\n",
       "      <th>1</th>\n",
       "      <td>G Gambhir</td>\n",
       "      <td>107</td>\n",
       "    </tr>\n",
       "    <tr>\n",
       "      <th>2</th>\n",
       "      <td>AC Gilchrist</td>\n",
       "      <td>74</td>\n",
       "    </tr>\n",
       "    <tr>\n",
       "      <th>3</th>\n",
       "      <td>V Kohli</td>\n",
       "      <td>71</td>\n",
       "    </tr>\n",
       "    <tr>\n",
       "      <th>4</th>\n",
       "      <td>RG Sharma</td>\n",
       "      <td>58</td>\n",
       "    </tr>\n",
       "  </tbody>\n",
       "</table>\n",
       "</div>"
      ],
      "text/plain": [
       "    Player_Name  Matches_captained\n",
       "0      MS Dhoni                142\n",
       "1     G Gambhir                107\n",
       "2  AC Gilchrist                 74\n",
       "3       V Kohli                 71\n",
       "4     RG Sharma                 58"
      ]
     },
     "execution_count": 11,
     "metadata": {},
     "output_type": "execute_result"
    }
   ],
   "source": [
    "## Most matches captained by players\n",
    "start = time.time()\n",
    "sql = pd.read_sql(\"\"\" SELECT C.Player_Name , COUNT(*) As 'Matches_captained'\n",
    "\tFROM Player_Match A \n",
    "\t\tINNER JOIN Rolee B\n",
    "\t\t\tON A.Role_Id = B.Role_Id\n",
    "\t\tINNER JOIN Player C\n",
    "\t\t\tON A.Player_Id = C.Player_Id\n",
    "\tWHERE A.Role_Id = 1 OR A.Role_Id = 4\n",
    "\tGROUP BY C.Player_Name\n",
    "\tORDER BY Matches_captained DESC;\"\"\", conn)\n",
    "end = time.time()\n",
    "total_times.append(end - start)\n",
    "print(\"Total time taken ::\", end - start)\n",
    "sql.head()"
   ]
  },
  {
   "cell_type": "code",
   "execution_count": 12,
   "metadata": {},
   "outputs": [
    {
     "name": "stdout",
     "output_type": "stream",
     "text": [
      "Total time taken :: 0.044365644454956055\n"
     ]
    },
    {
     "data": {
      "text/html": [
       "<div>\n",
       "<style scoped>\n",
       "    .dataframe tbody tr th:only-of-type {\n",
       "        vertical-align: middle;\n",
       "    }\n",
       "\n",
       "    .dataframe tbody tr th {\n",
       "        vertical-align: top;\n",
       "    }\n",
       "\n",
       "    .dataframe thead th {\n",
       "        text-align: right;\n",
       "    }\n",
       "</style>\n",
       "<table border=\"1\" class=\"dataframe\">\n",
       "  <thead>\n",
       "    <tr style=\"text-align: right;\">\n",
       "      <th></th>\n",
       "      <th>Player_Name</th>\n",
       "      <th>Catches</th>\n",
       "    </tr>\n",
       "  </thead>\n",
       "  <tbody>\n",
       "    <tr>\n",
       "      <th>0</th>\n",
       "      <td>KD Karthik</td>\n",
       "      <td>80</td>\n",
       "    </tr>\n",
       "    <tr>\n",
       "      <th>1</th>\n",
       "      <td>SK Raina</td>\n",
       "      <td>79</td>\n",
       "    </tr>\n",
       "    <tr>\n",
       "      <th>2</th>\n",
       "      <td>AB de Villiers</td>\n",
       "      <td>77</td>\n",
       "    </tr>\n",
       "    <tr>\n",
       "      <th>3</th>\n",
       "      <td>MS Dhoni</td>\n",
       "      <td>66</td>\n",
       "    </tr>\n",
       "    <tr>\n",
       "      <th>4</th>\n",
       "      <td>RV Uthappa</td>\n",
       "      <td>66</td>\n",
       "    </tr>\n",
       "  </tbody>\n",
       "</table>\n",
       "</div>"
      ],
      "text/plain": [
       "      Player_Name  Catches\n",
       "0      KD Karthik       80\n",
       "1        SK Raina       79\n",
       "2  AB de Villiers       77\n",
       "3        MS Dhoni       66\n",
       "4      RV Uthappa       66"
      ]
     },
     "execution_count": 12,
     "metadata": {},
     "output_type": "execute_result"
    }
   ],
   "source": [
    "## Players who has taken most cathces in IPL\n",
    "start = time.time()\n",
    "sql = pd.read_sql(\"\"\" SELECT TOP 10 Player.Player_Name , \n",
    "       COUNT(*) AS 'Catches'\n",
    "\tFROM Wicket_Taken\n",
    " \t INNER JOIN Out_Type\n",
    "\t\tON Wicket_Taken.Kind_Out = Out_Type.Out_Id\n",
    "   \t INNER JOIN Player\n",
    "\t\tON Player.Player_Id = Wicket_Taken.Fielders\n",
    "   WHERE Out_Type.Out_Name = 'caught'\n",
    "   GROUP BY Player.Player_Name\n",
    "   ORDER BY Catches DESC\"\"\", conn)\n",
    "end = time.time()\n",
    "total_times.append(end - start)\n",
    "print(\"Total time taken ::\", end - start)\n",
    "sql.head()"
   ]
  },
  {
   "cell_type": "code",
   "execution_count": 13,
   "metadata": {},
   "outputs": [
    {
     "name": "stdout",
     "output_type": "stream",
     "text": [
      "Total time taken :: 0.00795745849609375\n"
     ]
    },
    {
     "data": {
      "text/html": [
       "<div>\n",
       "<style scoped>\n",
       "    .dataframe tbody tr th:only-of-type {\n",
       "        vertical-align: middle;\n",
       "    }\n",
       "\n",
       "    .dataframe tbody tr th {\n",
       "        vertical-align: top;\n",
       "    }\n",
       "\n",
       "    .dataframe thead th {\n",
       "        text-align: right;\n",
       "    }\n",
       "</style>\n",
       "<table border=\"1\" class=\"dataframe\">\n",
       "  <thead>\n",
       "    <tr style=\"text-align: right;\">\n",
       "      <th></th>\n",
       "      <th>Season_Year</th>\n",
       "      <th>Player_Name</th>\n",
       "    </tr>\n",
       "  </thead>\n",
       "  <tbody>\n",
       "    <tr>\n",
       "      <th>0</th>\n",
       "      <td>2008</td>\n",
       "      <td>SE Marsh</td>\n",
       "    </tr>\n",
       "    <tr>\n",
       "      <th>1</th>\n",
       "      <td>2009</td>\n",
       "      <td>ML Hayden</td>\n",
       "    </tr>\n",
       "    <tr>\n",
       "      <th>2</th>\n",
       "      <td>2010</td>\n",
       "      <td>SR Tendulkar</td>\n",
       "    </tr>\n",
       "    <tr>\n",
       "      <th>3</th>\n",
       "      <td>2011</td>\n",
       "      <td>CH Gayle</td>\n",
       "    </tr>\n",
       "    <tr>\n",
       "      <th>4</th>\n",
       "      <td>2012</td>\n",
       "      <td>CH Gayle</td>\n",
       "    </tr>\n",
       "  </tbody>\n",
       "</table>\n",
       "</div>"
      ],
      "text/plain": [
       "   Season_Year   Player_Name\n",
       "0         2008      SE Marsh\n",
       "1         2009     ML Hayden\n",
       "2         2010  SR Tendulkar\n",
       "3         2011      CH Gayle\n",
       "4         2012      CH Gayle"
      ]
     },
     "execution_count": 13,
     "metadata": {},
     "output_type": "execute_result"
    }
   ],
   "source": [
    "## Orange cap Holders season wise\n",
    "start = time.time()\n",
    "sql = pd.read_sql(\"\"\" SELECT Season.Season_Year , Player.Player_Name\n",
    "\tFROM Season\n",
    "\t\tINNER JOIN Player\n",
    "\t\t\tON Season.Orange_Cap = Player.Player_Id\"\"\", conn)\n",
    "end = time.time()\n",
    "print(\"Total time taken ::\", end - start)\n",
    "total_times.append(end - start)\n",
    "sql.head()"
   ]
  },
  {
   "cell_type": "code",
   "execution_count": 14,
   "metadata": {},
   "outputs": [
    {
     "name": "stdout",
     "output_type": "stream",
     "text": [
      "Total time taken :: 0.007973909378051758\n"
     ]
    },
    {
     "data": {
      "text/html": [
       "<div>\n",
       "<style scoped>\n",
       "    .dataframe tbody tr th:only-of-type {\n",
       "        vertical-align: middle;\n",
       "    }\n",
       "\n",
       "    .dataframe tbody tr th {\n",
       "        vertical-align: top;\n",
       "    }\n",
       "\n",
       "    .dataframe thead th {\n",
       "        text-align: right;\n",
       "    }\n",
       "</style>\n",
       "<table border=\"1\" class=\"dataframe\">\n",
       "  <thead>\n",
       "    <tr style=\"text-align: right;\">\n",
       "      <th></th>\n",
       "      <th>Matches_Played</th>\n",
       "      <th>Man_Of_The_Match</th>\n",
       "    </tr>\n",
       "  </thead>\n",
       "  <tbody>\n",
       "    <tr>\n",
       "      <th>0</th>\n",
       "      <td>138</td>\n",
       "      <td>11</td>\n",
       "    </tr>\n",
       "  </tbody>\n",
       "</table>\n",
       "</div>"
      ],
      "text/plain": [
       "   Matches_Played  Man_Of_The_Match\n",
       "0             138                11"
      ]
     },
     "execution_count": 14,
     "metadata": {},
     "output_type": "execute_result"
    }
   ],
   "source": [
    "## Man of the mathes by Kohli\n",
    "start = time.time()\n",
    "sql = pd.read_sql(\"\"\"SELECT ( SELECT COUNT(*) \n",
    "\t\t\tFROM Player_Match A\n",
    "\t\t\tWHERE A.Player_Id = 8 ) As 'Matches_Played' ,\n",
    "\t\t\t\n",
    "\t\t( SELECT COUNT(*) \n",
    "\t\t    FROM Match B\n",
    "\t\t\tWHERE B.Man_of_the_Match = 8 ) As 'Man_Of_The_Match'\t  ; \"\"\", conn)\n",
    "end = time.time()\n",
    "total_times.append(end - start)\n",
    "print(\"Total time taken ::\", end - start)\n",
    "sql.head()"
   ]
  },
  {
   "cell_type": "code",
   "execution_count": 15,
   "metadata": {},
   "outputs": [
    {
     "name": "stdout",
     "output_type": "stream",
     "text": [
      "Total time taken :: 2.632899522781372\n"
     ]
    },
    {
     "data": {
      "text/html": [
       "<div>\n",
       "<style scoped>\n",
       "    .dataframe tbody tr th:only-of-type {\n",
       "        vertical-align: middle;\n",
       "    }\n",
       "\n",
       "    .dataframe tbody tr th {\n",
       "        vertical-align: top;\n",
       "    }\n",
       "\n",
       "    .dataframe thead th {\n",
       "        text-align: right;\n",
       "    }\n",
       "</style>\n",
       "<table border=\"1\" class=\"dataframe\">\n",
       "  <thead>\n",
       "    <tr style=\"text-align: right;\">\n",
       "      <th></th>\n",
       "      <th>Player_Name</th>\n",
       "      <th>Total_Runs</th>\n",
       "    </tr>\n",
       "  </thead>\n",
       "  <tbody>\n",
       "    <tr>\n",
       "      <th>0</th>\n",
       "      <td>SK Raina</td>\n",
       "      <td>4106</td>\n",
       "    </tr>\n",
       "    <tr>\n",
       "      <th>1</th>\n",
       "      <td>V Kohli</td>\n",
       "      <td>4105</td>\n",
       "    </tr>\n",
       "    <tr>\n",
       "      <th>2</th>\n",
       "      <td>RG Sharma</td>\n",
       "      <td>3874</td>\n",
       "    </tr>\n",
       "    <tr>\n",
       "      <th>3</th>\n",
       "      <td>G Gambhir</td>\n",
       "      <td>3634</td>\n",
       "    </tr>\n",
       "    <tr>\n",
       "      <th>4</th>\n",
       "      <td>CH Gayle</td>\n",
       "      <td>3447</td>\n",
       "    </tr>\n",
       "  </tbody>\n",
       "</table>\n",
       "</div>"
      ],
      "text/plain": [
       "  Player_Name  Total_Runs\n",
       "0    SK Raina        4106\n",
       "1     V Kohli        4105\n",
       "2   RG Sharma        3874\n",
       "3   G Gambhir        3634\n",
       "4    CH Gayle        3447"
      ]
     },
     "execution_count": 15,
     "metadata": {},
     "output_type": "execute_result"
    }
   ],
   "source": [
    "## Top 5 run scorer in All IPL seasons\n",
    "start = time.time()\n",
    "sql = pd.read_sql(\"\"\" SELECT TOP 5 Player_Name , SUM(Runs_Scored) AS Total_Runs\n",
    "\tFROM Batsman_Scored BS\n",
    "\t\n",
    "\tINNER JOIN\n",
    "\tBall_by_Ball Ball\n",
    "\tON CONCAT(BS.Match_Id,BS.Over_Id,BS.Ball_Id,BS.Innings_No)\n",
    "\t = CONCAT(Ball.Match_Id,Ball.Over_Id,Ball.Ball_Id,Ball.Innings_No)\n",
    "\n",
    "\tINNER JOIN Player B\n",
    "\tON Ball.Striker = B.Player_Id\n",
    "\t\n",
    "\tWHERE Concat(BS.Match_Id,BS.Over_Id,BS.Ball_Id,BS.Innings_No) \n",
    "\t\t\tIN ( SELECT Concat(Ball.Match_Id,Ball.Over_Id,Ball.Ball_Id,Ball.Innings_No) \n",
    "\t\t\t\tFROM Ball_by_Ball Ball\n",
    "\t\t\t\tWHERE Match_Id IN \n",
    "\t\t\t\t   ( SELECT Match_Id \n",
    "\t\t\t\t     FROM Match\n",
    "\t\t\t\t\t WHERE Season_Id In (1,2,3,4,5,6,7,8,9)\n",
    "\t\t\t\t\t)\n",
    "\t\t\t\t )\n",
    "\tGROUP BY Player_Name\n",
    "\tORDER BY Total_runs DESC\"\"\", conn)\n",
    "end = time.time()\n",
    "total_times.append(end - start)\n",
    "print(\"Total time taken ::\", end - start)\n",
    "sql.head()"
   ]
  },
  {
   "cell_type": "code",
   "execution_count": 16,
   "metadata": {},
   "outputs": [
    {
     "name": "stdout",
     "output_type": "stream",
     "text": [
      "Total time taken :: 0.03376483917236328\n"
     ]
    },
    {
     "data": {
      "text/html": [
       "<div>\n",
       "<style scoped>\n",
       "    .dataframe tbody tr th:only-of-type {\n",
       "        vertical-align: middle;\n",
       "    }\n",
       "\n",
       "    .dataframe tbody tr th {\n",
       "        vertical-align: top;\n",
       "    }\n",
       "\n",
       "    .dataframe thead th {\n",
       "        text-align: right;\n",
       "    }\n",
       "</style>\n",
       "<table border=\"1\" class=\"dataframe\">\n",
       "  <thead>\n",
       "    <tr style=\"text-align: right;\">\n",
       "      <th></th>\n",
       "      <th>Player_Name</th>\n",
       "      <th>Matches_Captained</th>\n",
       "      <th>Won_Matches</th>\n",
       "    </tr>\n",
       "  </thead>\n",
       "  <tbody>\n",
       "    <tr>\n",
       "      <th>0</th>\n",
       "      <td>V Kohli</td>\n",
       "      <td>71</td>\n",
       "      <td>37</td>\n",
       "    </tr>\n",
       "  </tbody>\n",
       "</table>\n",
       "</div>"
      ],
      "text/plain": [
       "  Player_Name  Matches_Captained  Won_Matches\n",
       "0     V Kohli                 71           37"
      ]
     },
     "execution_count": 16,
     "metadata": {},
     "output_type": "execute_result"
    }
   ],
   "source": [
    "start = time.time()\n",
    "sql = pd.read_sql(\"\"\"With Matches_Played ( Player_Name , Matches )\n",
    "AS\n",
    "(\n",
    "SELECT 'V Kohli' , COUNT(*)\n",
    "\t\tFROM Match A\n",
    "\t\t INNER JOIN Player_Match B\n",
    "\t\t  ON A.Match_Id = B.Match_Id AND A.Team_1 = B.Team_Id\n",
    "\t\t WHERE B.Player_Id = 8 AND B.Role_Id = 1\n",
    "UNION ALL\n",
    "SELECT 'V Kohli' , COUNT(*)\n",
    "\t\tFROM Match A\n",
    "\t\t INNER JOIN Player_Match B\n",
    "\t\t  ON A.Match_Id = B.Match_Id AND A.Team_2 = B.Team_Id\n",
    "\t\t WHERE B.Player_Id = 8 AND B.Role_Id = 1\n",
    "),\n",
    "Total_Matches( Player_Name , Matches )\n",
    "AS\n",
    "(\n",
    "  SELECT A.Player_Name , SUM(A.Matches)\n",
    "\t\tFROM Matches_Played A\n",
    "\t\t GROUP BY A.Player_Name\n",
    "\n",
    "),\n",
    "\n",
    "Won_Matches ( Player_Name , Won_Matches )\n",
    "As\n",
    "(\n",
    "SELECT 'V Kohli' , COUNT(*)\n",
    "\t\tFROM Match A\n",
    "\t\t\tINNER JOIN Player_Match B\n",
    "\t\t\t\tON A.Match_Id = B.Match_Id AND A.Match_Winner = B.Team_Id\n",
    "\t\t\tWHERE B.Player_Id = 8  AND B.Role_Id = 1\n",
    "\n",
    ")\n",
    "SELECT A.Player_Name , A.Matches AS 'Matches_Captained' , B.Won_Matches\n",
    "\t\tFROM Total_Matches A\n",
    "\t\t INNER JOIN Won_Matches B\n",
    "\t\t\tON A.Player_Name = B.Player_Name \"\"\", conn)\n",
    "end = time.time()\n",
    "total_times.append(end - start)\n",
    "print(\"Total time taken ::\", end - start)\n",
    "sql.head()"
   ]
  },
  {
   "cell_type": "code",
   "execution_count": 17,
   "metadata": {},
   "outputs": [
    {
     "name": "stdout",
     "output_type": "stream",
     "text": [
      "Total time taken :: 0.01595616340637207\n"
     ]
    },
    {
     "data": {
      "text/html": [
       "<div>\n",
       "<style scoped>\n",
       "    .dataframe tbody tr th:only-of-type {\n",
       "        vertical-align: middle;\n",
       "    }\n",
       "\n",
       "    .dataframe tbody tr th {\n",
       "        vertical-align: top;\n",
       "    }\n",
       "\n",
       "    .dataframe thead th {\n",
       "        text-align: right;\n",
       "    }\n",
       "</style>\n",
       "<table border=\"1\" class=\"dataframe\">\n",
       "  <thead>\n",
       "    <tr style=\"text-align: right;\">\n",
       "      <th></th>\n",
       "      <th>Player_Name</th>\n",
       "      <th>Man_Of_The_Matches</th>\n",
       "    </tr>\n",
       "  </thead>\n",
       "  <tbody>\n",
       "    <tr>\n",
       "      <th>0</th>\n",
       "      <td>CH Gayle</td>\n",
       "      <td>17</td>\n",
       "    </tr>\n",
       "    <tr>\n",
       "      <th>1</th>\n",
       "      <td>YK Pathan</td>\n",
       "      <td>16</td>\n",
       "    </tr>\n",
       "    <tr>\n",
       "      <th>2</th>\n",
       "      <td>AB de Villiers</td>\n",
       "      <td>15</td>\n",
       "    </tr>\n",
       "    <tr>\n",
       "      <th>3</th>\n",
       "      <td>DA Warner</td>\n",
       "      <td>14</td>\n",
       "    </tr>\n",
       "    <tr>\n",
       "      <th>4</th>\n",
       "      <td>RG Sharma</td>\n",
       "      <td>13</td>\n",
       "    </tr>\n",
       "  </tbody>\n",
       "</table>\n",
       "</div>"
      ],
      "text/plain": [
       "      Player_Name  Man_Of_The_Matches\n",
       "0        CH Gayle                  17\n",
       "1       YK Pathan                  16\n",
       "2  AB de Villiers                  15\n",
       "3       DA Warner                  14\n",
       "4       RG Sharma                  13"
      ]
     },
     "execution_count": 17,
     "metadata": {},
     "output_type": "execute_result"
    }
   ],
   "source": [
    "## Players with most man of the matches in IPL\n",
    "start = time.time()\n",
    "sql = pd.read_sql(\"\"\"SELECT Player.Player_Name , COUNT(*) As 'Man_Of_The_Matches'\n",
    "\tFROM Match\n",
    "\t\tINNER JOIN Player\n",
    "\t\t\tON Match.Man_of_the_Match = Player.Player_Id\n",
    "\tGROUP BY Player.Player_Name\n",
    "\tORDER BY Man_Of_The_Matches DESC \"\"\", conn)\n",
    "end = time.time()\n",
    "total_times.append(end - start)\n",
    "print(\"Total time taken ::\", end - start)\n",
    "sql.head()"
   ]
  },
  {
   "cell_type": "code",
   "execution_count": 18,
   "metadata": {},
   "outputs": [
    {
     "name": "stdout",
     "output_type": "stream",
     "text": [
      "Total time taken :: 0.2717881202697754\n"
     ]
    },
    {
     "data": {
      "text/html": [
       "<div>\n",
       "<style scoped>\n",
       "    .dataframe tbody tr th:only-of-type {\n",
       "        vertical-align: middle;\n",
       "    }\n",
       "\n",
       "    .dataframe tbody tr th {\n",
       "        vertical-align: top;\n",
       "    }\n",
       "\n",
       "    .dataframe thead th {\n",
       "        text-align: right;\n",
       "    }\n",
       "</style>\n",
       "<table border=\"1\" class=\"dataframe\">\n",
       "  <thead>\n",
       "    <tr style=\"text-align: right;\">\n",
       "      <th></th>\n",
       "      <th>Player_Name</th>\n",
       "      <th>Sixes</th>\n",
       "    </tr>\n",
       "  </thead>\n",
       "  <tbody>\n",
       "    <tr>\n",
       "      <th>0</th>\n",
       "      <td>CH Gayle</td>\n",
       "      <td>252</td>\n",
       "    </tr>\n",
       "    <tr>\n",
       "      <th>1</th>\n",
       "      <td>RG Sharma</td>\n",
       "      <td>164</td>\n",
       "    </tr>\n",
       "    <tr>\n",
       "      <th>2</th>\n",
       "      <td>SK Raina</td>\n",
       "      <td>161</td>\n",
       "    </tr>\n",
       "    <tr>\n",
       "      <th>3</th>\n",
       "      <td>V Kohli</td>\n",
       "      <td>148</td>\n",
       "    </tr>\n",
       "    <tr>\n",
       "      <th>4</th>\n",
       "      <td>YK Pathan</td>\n",
       "      <td>143</td>\n",
       "    </tr>\n",
       "  </tbody>\n",
       "</table>\n",
       "</div>"
      ],
      "text/plain": [
       "  Player_Name  Sixes\n",
       "0    CH Gayle    252\n",
       "1   RG Sharma    164\n",
       "2    SK Raina    161\n",
       "3     V Kohli    148\n",
       "4   YK Pathan    143"
      ]
     },
     "execution_count": 18,
     "metadata": {},
     "output_type": "execute_result"
    }
   ],
   "source": [
    "## Players with most 6's in IPL\n",
    "start = time.time()\n",
    "sql = pd.read_sql(\"\"\"SELECT C.Player_Name ,COUNT(*) As 'Sixes'\n",
    "\tFROM Ball_by_Ball A\n",
    "\t\tINNER JOIN Batsman_Scored B\n",
    "\t\t\tON CONCAT(A.Match_Id,A.Over_Id,A.Ball_Id,A.Innings_No)\n",
    "\t\t\t\t\t\t= CONCAT(B.Match_Id,B.Over_Id,B.Ball_Id,B.Innings_No)\t\t\t\t\t\n",
    "\t\tINNER JOIN Player C\n",
    "\t\t\tON A.Striker = C.Player_Id\n",
    "\t\tINNER JOIN Match D\n",
    "\t\t\tON A.Match_Id = D.Match_Id\n",
    "\t\tINNER JOIN Venue E\n",
    "\t\t\tON D.Venue_Id = E.Venue_Id\n",
    "\tWHERE B.Runs_Scored = 6\n",
    "\tGROUP BY C.Player_Name\n",
    "\tORDER BY Sixes DESC \"\"\", conn)\n",
    "end = time.time()\n",
    "total_times.append(end - start)\n",
    "print(\"Total time taken ::\", end - start)\n",
    "sql.head()"
   ]
  },
  {
   "cell_type": "code",
   "execution_count": 19,
   "metadata": {
    "colab": {
     "base_uri": "https://localhost:8080/",
     "height": 206
    },
    "execution": {
     "iopub.execute_input": "2021-09-22T12:13:39.956253Z",
     "iopub.status.busy": "2021-09-22T12:13:39.955999Z",
     "iopub.status.idle": "2021-09-22T12:13:40.158629Z",
     "shell.execute_reply": "2021-09-22T12:13:40.157164Z",
     "shell.execute_reply.started": "2021-09-22T12:13:39.956226Z"
    },
    "id": "Qhd6NDEnjh-7",
    "outputId": "991ee4a2-8fb5-455b-938c-39293a71c788"
   },
   "outputs": [
    {
     "name": "stdout",
     "output_type": "stream",
     "text": [
      "Total time taken :: 0.12237548828125\n"
     ]
    },
    {
     "data": {
      "text/html": [
       "<div>\n",
       "<style scoped>\n",
       "    .dataframe tbody tr th:only-of-type {\n",
       "        vertical-align: middle;\n",
       "    }\n",
       "\n",
       "    .dataframe tbody tr th {\n",
       "        vertical-align: top;\n",
       "    }\n",
       "\n",
       "    .dataframe thead th {\n",
       "        text-align: right;\n",
       "    }\n",
       "</style>\n",
       "<table border=\"1\" class=\"dataframe\">\n",
       "  <thead>\n",
       "    <tr style=\"text-align: right;\">\n",
       "      <th></th>\n",
       "      <th>match_id</th>\n",
       "      <th>innings_no</th>\n",
       "      <th>Total</th>\n",
       "      <th>Average_per_ball</th>\n",
       "    </tr>\n",
       "  </thead>\n",
       "  <tbody>\n",
       "    <tr>\n",
       "      <th>0</th>\n",
       "      <td>548373</td>\n",
       "      <td>1</td>\n",
       "      <td>155</td>\n",
       "      <td>1</td>\n",
       "    </tr>\n",
       "    <tr>\n",
       "      <th>1</th>\n",
       "      <td>829822</td>\n",
       "      <td>1</td>\n",
       "      <td>178</td>\n",
       "      <td>1</td>\n",
       "    </tr>\n",
       "    <tr>\n",
       "      <th>2</th>\n",
       "      <td>501259</td>\n",
       "      <td>2</td>\n",
       "      <td>173</td>\n",
       "      <td>1</td>\n",
       "    </tr>\n",
       "    <tr>\n",
       "      <th>3</th>\n",
       "      <td>598032</td>\n",
       "      <td>1</td>\n",
       "      <td>252</td>\n",
       "      <td>2</td>\n",
       "    </tr>\n",
       "    <tr>\n",
       "      <th>4</th>\n",
       "      <td>336036</td>\n",
       "      <td>1</td>\n",
       "      <td>170</td>\n",
       "      <td>1</td>\n",
       "    </tr>\n",
       "  </tbody>\n",
       "</table>\n",
       "</div>"
      ],
      "text/plain": [
       "   match_id  innings_no  Total  Average_per_ball\n",
       "0    548373           1    155                 1\n",
       "1    829822           1    178                 1\n",
       "2    501259           2    173                 1\n",
       "3    598032           1    252                 2\n",
       "4    336036           1    170                 1"
      ]
     },
     "execution_count": 19,
     "metadata": {},
     "output_type": "execute_result"
    }
   ],
   "source": [
    "## Select total,average run per ball for all innings of all matches\n",
    "start = time.time()\n",
    "sql = pd.read_sql(\"\"\"SELECT match_id,innings_no,sum(runs_scored) as Total,round(avg(runs_scored),2) as Average_per_ball\n",
    "                    FROM Batsman_Scored\n",
    "                    group by match_id,innings_no\n",
    "                     ;\"\"\", conn)\n",
    "end = time.time()\n",
    "total_times.append(end - start)\n",
    "print(\"Total time taken ::\", end - start)\n",
    "sql.head()"
   ]
  },
  {
   "cell_type": "code",
   "execution_count": 20,
   "metadata": {
    "colab": {
     "base_uri": "https://localhost:8080/",
     "height": 206
    },
    "execution": {
     "iopub.execute_input": "2021-09-22T12:13:40.406486Z",
     "iopub.status.busy": "2021-09-22T12:13:40.406201Z",
     "iopub.status.idle": "2021-09-22T12:13:40.534453Z",
     "shell.execute_reply": "2021-09-22T12:13:40.533752Z",
     "shell.execute_reply.started": "2021-09-22T12:13:40.406456Z"
    },
    "id": "yK10Nj87jh-9",
    "outputId": "b788b213-d3e5-4d58-e9f0-77591743af33"
   },
   "outputs": [
    {
     "name": "stdout",
     "output_type": "stream",
     "text": [
      "Total time taken :: 0.2910170555114746\n"
     ]
    },
    {
     "data": {
      "text/html": [
       "<div>\n",
       "<style scoped>\n",
       "    .dataframe tbody tr th:only-of-type {\n",
       "        vertical-align: middle;\n",
       "    }\n",
       "\n",
       "    .dataframe tbody tr th {\n",
       "        vertical-align: top;\n",
       "    }\n",
       "\n",
       "    .dataframe thead th {\n",
       "        text-align: right;\n",
       "    }\n",
       "</style>\n",
       "<table border=\"1\" class=\"dataframe\">\n",
       "  <thead>\n",
       "    <tr style=\"text-align: right;\">\n",
       "      <th></th>\n",
       "      <th>player_name</th>\n",
       "      <th>player_id</th>\n",
       "      <th>batting_hand</th>\n",
       "    </tr>\n",
       "  </thead>\n",
       "  <tbody>\n",
       "    <tr>\n",
       "      <th>0</th>\n",
       "      <td>SC Ganguly</td>\n",
       "      <td>1</td>\n",
       "      <td>Left-hand bat</td>\n",
       "    </tr>\n",
       "    <tr>\n",
       "      <th>1</th>\n",
       "      <td>BB McCullum</td>\n",
       "      <td>2</td>\n",
       "      <td>Right-hand bat</td>\n",
       "    </tr>\n",
       "    <tr>\n",
       "      <th>2</th>\n",
       "      <td>RT Ponting</td>\n",
       "      <td>3</td>\n",
       "      <td>Right-hand bat</td>\n",
       "    </tr>\n",
       "    <tr>\n",
       "      <th>3</th>\n",
       "      <td>DJ Hussey</td>\n",
       "      <td>4</td>\n",
       "      <td>Right-hand bat</td>\n",
       "    </tr>\n",
       "    <tr>\n",
       "      <th>4</th>\n",
       "      <td>Mohammad Hafeez</td>\n",
       "      <td>5</td>\n",
       "      <td>Right-hand bat</td>\n",
       "    </tr>\n",
       "  </tbody>\n",
       "</table>\n",
       "</div>"
      ],
      "text/plain": [
       "       player_name  player_id    batting_hand\n",
       "0       SC Ganguly          1   Left-hand bat\n",
       "1      BB McCullum          2  Right-hand bat\n",
       "2       RT Ponting          3  Right-hand bat\n",
       "3        DJ Hussey          4  Right-hand bat\n",
       "4  Mohammad Hafeez          5  Right-hand bat"
      ]
     },
     "execution_count": 20,
     "metadata": {},
     "output_type": "execute_result"
    }
   ],
   "source": [
    "##  Display Player name, id and batting style\n",
    "start = time.time()\n",
    "sql = pd.read_sql(\"\"\"\n",
    "select t_one.player_name,\n",
    "t_two.player_id,\n",
    "t_three.batting_hand\n",
    "from player t_one\n",
    "join player_match t_two on t_one.player_id = t_two.player_id\n",
    "join batting_style t_three on t_one.batting_hand = t_three.batting_id\n",
    "\n",
    "\"\"\", conn)\n",
    "#sql.head()\n",
    "\n",
    "end = time.time()\n",
    "total_times.append(end - start)\n",
    "print(\"Total time taken ::\", end - start)\n",
    "\n",
    "sql.head()"
   ]
  },
  {
   "cell_type": "code",
   "execution_count": 21,
   "metadata": {
    "colab": {
     "base_uri": "https://localhost:8080/",
     "height": 206
    },
    "execution": {
     "iopub.execute_input": "2021-09-22T12:13:52.466977Z",
     "iopub.status.busy": "2021-09-22T12:13:52.466082Z",
     "iopub.status.idle": "2021-09-22T12:14:02.111514Z",
     "shell.execute_reply": "2021-09-22T12:14:02.110469Z",
     "shell.execute_reply.started": "2021-09-22T12:13:52.46691Z"
    },
    "id": "aFYFtOvzjh-_",
    "outputId": "34368208-63c1-4017-f73d-0a2a84f6cd8e"
   },
   "outputs": [
    {
     "name": "stdout",
     "output_type": "stream",
     "text": [
      "Total time taken :: 0.09248208999633789\n",
      "      Dimension  Measure\n",
      "0       Matches      577\n",
      "1    Extra_Runs     9514\n",
      "2  Batsman_runs   165961\n",
      "3       Wickets     6727\n",
      "4         Sixes     5814\n",
      "5         Fours    15414\n"
     ]
    }
   ],
   "source": [
    "## Important metrics in IPL ( 2008 - 2016 )\n",
    "start = time.time()\n",
    "sql = pd.read_sql(\"\"\"SELECT 'Matches' As Dimension , COUNT(*) As 'Measure'\n",
    "\tFROM Match\n",
    "\n",
    "UNION ALL\n",
    "\n",
    "SELECT 'Extra_Runs' As Dimension , SUM(Extra_Runs.Extra_Runs) As 'Measure'\n",
    "\tFROM Extra_Runs\n",
    "\n",
    "UNION ALL\n",
    "\n",
    "SELECT 'Batsman_runs' As Dimension , SUM(B.Runs_Scored) As 'Value'\n",
    "\tFROM Batsman_Scored B\n",
    "\t\t\t\t\n",
    "UNION ALL\n",
    "\n",
    "\n",
    "SELECT 'Wickets' As Dimension , COUNT(*) As 'Measure'\n",
    "\t\tFROM Wicket_Taken\n",
    "\n",
    "UNION ALL\n",
    "\n",
    "SELECT 'Sixes' As Dimension , COUNT(*) As 'Measure'\n",
    "\t\tFROM Batsman_Scored\n",
    "\t\tWHERE Batsman_Scored.Runs_Scored = 6\n",
    "\n",
    "UNION ALL\n",
    "\n",
    "\n",
    "SELECT 'Fours' As Dimension , COUNT(*) As 'Measure'\n",
    "\t\tFROM Batsman_Scored\n",
    "\t\tWHERE Batsman_Scored.Runs_Scored = 4\n",
    "\"\"\", conn) \n",
    "end = time.time()\n",
    "total_times.append(end - start)\n",
    "print(\"Total time taken ::\", end - start)\n",
    "\n",
    "print(sql)"
   ]
  },
  {
   "cell_type": "code",
   "execution_count": 22,
   "metadata": {
    "colab": {
     "base_uri": "https://localhost:8080/",
     "height": 363
    },
    "execution": {
     "iopub.execute_input": "2021-09-22T12:14:03.156522Z",
     "iopub.status.busy": "2021-09-22T12:14:03.156185Z",
     "iopub.status.idle": "2021-09-22T12:14:03.209895Z",
     "shell.execute_reply": "2021-09-22T12:14:03.209194Z",
     "shell.execute_reply.started": "2021-09-22T12:14:03.156479Z"
    },
    "id": "YhAcBMzrjh_B",
    "outputId": "6a5553a0-4041-4502-a22a-e773d674fe7b"
   },
   "outputs": [
    {
     "name": "stdout",
     "output_type": "stream",
     "text": [
      "Total time taken :: 0.02108597755432129\n",
      "0.002396399974822998\n"
     ]
    },
    {
     "data": {
      "text/html": [
       "<div>\n",
       "<style scoped>\n",
       "    .dataframe tbody tr th:only-of-type {\n",
       "        vertical-align: middle;\n",
       "    }\n",
       "\n",
       "    .dataframe tbody tr th {\n",
       "        vertical-align: top;\n",
       "    }\n",
       "\n",
       "    .dataframe thead th {\n",
       "        text-align: right;\n",
       "    }\n",
       "</style>\n",
       "<table border=\"1\" class=\"dataframe\">\n",
       "  <thead>\n",
       "    <tr style=\"text-align: right;\">\n",
       "      <th></th>\n",
       "      <th>Team_Name</th>\n",
       "      <th>Total_Matches</th>\n",
       "      <th>Won_Matches</th>\n",
       "      <th>Winning_Percentage</th>\n",
       "    </tr>\n",
       "  </thead>\n",
       "  <tbody>\n",
       "    <tr>\n",
       "      <th>0</th>\n",
       "      <td>Chennai Super Kings</td>\n",
       "      <td>131</td>\n",
       "      <td>79</td>\n",
       "      <td>60</td>\n",
       "    </tr>\n",
       "    <tr>\n",
       "      <th>1</th>\n",
       "      <td>Mumbai Indians</td>\n",
       "      <td>140</td>\n",
       "      <td>80</td>\n",
       "      <td>57</td>\n",
       "    </tr>\n",
       "    <tr>\n",
       "      <th>2</th>\n",
       "      <td>Gujarat Lions</td>\n",
       "      <td>16</td>\n",
       "      <td>9</td>\n",
       "      <td>56</td>\n",
       "    </tr>\n",
       "    <tr>\n",
       "      <th>3</th>\n",
       "      <td>Sunrisers Hyderabad</td>\n",
       "      <td>62</td>\n",
       "      <td>34</td>\n",
       "      <td>54</td>\n",
       "    </tr>\n",
       "    <tr>\n",
       "      <th>4</th>\n",
       "      <td>Rajasthan Royals</td>\n",
       "      <td>118</td>\n",
       "      <td>63</td>\n",
       "      <td>53</td>\n",
       "    </tr>\n",
       "    <tr>\n",
       "      <th>5</th>\n",
       "      <td>Kolkata Knight Riders</td>\n",
       "      <td>132</td>\n",
       "      <td>68</td>\n",
       "      <td>51</td>\n",
       "    </tr>\n",
       "    <tr>\n",
       "      <th>6</th>\n",
       "      <td>Royal Challengers Bangalore</td>\n",
       "      <td>139</td>\n",
       "      <td>70</td>\n",
       "      <td>50</td>\n",
       "    </tr>\n",
       "    <tr>\n",
       "      <th>7</th>\n",
       "      <td>Kings XI Punjab</td>\n",
       "      <td>134</td>\n",
       "      <td>63</td>\n",
       "      <td>47</td>\n",
       "    </tr>\n",
       "    <tr>\n",
       "      <th>8</th>\n",
       "      <td>Delhi Daredevils</td>\n",
       "      <td>133</td>\n",
       "      <td>56</td>\n",
       "      <td>42</td>\n",
       "    </tr>\n",
       "    <tr>\n",
       "      <th>9</th>\n",
       "      <td>Kochi Tuskers Kerala</td>\n",
       "      <td>14</td>\n",
       "      <td>6</td>\n",
       "      <td>42</td>\n",
       "    </tr>\n",
       "  </tbody>\n",
       "</table>\n",
       "</div>"
      ],
      "text/plain": [
       "                     Team_Name  Total_Matches  Won_Matches  Winning_Percentage\n",
       "0          Chennai Super Kings            131           79                  60\n",
       "1               Mumbai Indians            140           80                  57\n",
       "2                Gujarat Lions             16            9                  56\n",
       "3          Sunrisers Hyderabad             62           34                  54\n",
       "4             Rajasthan Royals            118           63                  53\n",
       "5        Kolkata Knight Riders            132           68                  51\n",
       "6  Royal Challengers Bangalore            139           70                  50\n",
       "7              Kings XI Punjab            134           63                  47\n",
       "8             Delhi Daredevils            133           56                  42\n",
       "9         Kochi Tuskers Kerala             14            6                  42"
      ]
     },
     "execution_count": 22,
     "metadata": {},
     "output_type": "execute_result"
    },
    {
     "data": {
      "image/png": "[encoded data removed]",
      "text/plain": [
       "<Figure size 432x288 with 1 Axes>"
      ]
     },
     "metadata": {
      "needs_background": "light"
     },
     "output_type": "display_data"
    }
   ],
   "source": [
    "## Total Matches , Won Matches , Winning_Percentage by Team\n",
    "start = time.time()\n",
    "cursor = conn.cursor()\n",
    "query = \"\"\"\n",
    "\n",
    "WITH Matches  (Team , Matches)\n",
    "As\n",
    "(\n",
    "-- Home Matches\n",
    "SELECT Match.Team_1 , COUNT(*) As 'Matches'\n",
    "\t\tFROM Match \n",
    "\t\tGROUP BY Match.Team_1\n",
    "UNION ALL\n",
    "-- Away Matches\n",
    "SELECT Match.Team_2 , COUNT(*) As 'Matches'\n",
    "\t\tFROM Match\n",
    "\t\tGROUP BY Match.Team_2\n",
    "),\n",
    "Total_Matches ( Team_Name , Total_Matches)\n",
    "AS\n",
    "(\n",
    " SELECT Team , SUM(Matches) As 'Total_Matches'\n",
    "\t\tFROM\n",
    "\t\t\tMatches\n",
    "\t\t\tGROUP BY Team\n",
    "),\n",
    "Win_Matches ( Team_Name , Won_Matches)\n",
    "AS\n",
    "(\n",
    " SELECT Match.Match_Winner , COUNT(*)\n",
    "\tFROM Match\n",
    "\tGROUP BY Match.Match_Winner\n",
    ")\n",
    "\n",
    "SELECT C.Team_Name , B.Total_Matches , A.Won_Matches , (A.Won_Matches * 100 / B.Total_Matches) As 'Winning_Percentage'\n",
    "\tFROM Win_Matches A\n",
    "\t INNER JOIN Total_Matches B\n",
    "\t  ON A.Team_Name = B.Team_Name\n",
    "     INNER JOIN Team C\n",
    "\t  ON A.Team_Name = C.Team_Id\n",
    "\tORDER BY Winning_Percentage DESC\n",
    "\"\"\"\n",
    "\n",
    "sql = pd.read_sql(query, conn) \n",
    "end = time.time()\n",
    "total_times.append(end - start)\n",
    "print(\"Total time taken ::\", end - start)\n",
    "\n",
    "plot_query_results(cursor,query,100,'green')\n",
    "cursor.close()\n",
    "sql.head(10)"
   ]
  },
  {
   "cell_type": "code",
   "execution_count": 23,
   "metadata": {},
   "outputs": [
    {
     "data": {
      "text/plain": [
       "[2.01023530960083,\n",
       " 0.003990650177001953,\n",
       " 0.9145336151123047,\n",
       " 1.4370982646942139,\n",
       " 0.838385820388794,\n",
       " 0.24974799156188965,\n",
       " 0.02548384666442871,\n",
       " 0.044365644454956055,\n",
       " 0.00795745849609375,\n",
       " 0.007973909378051758,\n",
       " 2.632899522781372,\n",
       " 0.03376483917236328,\n",
       " 0.01595616340637207,\n",
       " 0.2717881202697754,\n",
       " 0.12237548828125,\n",
       " 0.2910170555114746,\n",
       " 0.09248208999633789,\n",
       " 0.02108597755432129]"
      ]
     },
     "execution_count": 23,
     "metadata": {},
     "output_type": "execute_result"
    },
    {
     "data": {
      "image/png": "[encoded data removed]",
      "text/plain": [
       "<Figure size 432x288 with 1 Axes>"
      ]
     },
     "metadata": {
      "needs_background": "light"
     },
     "output_type": "display_data"
    }
   ],
   "source": [
    "  plt.plot(total_times, color=\"red\")\n",
    "    \n",
    "total_times"
   ]
  },
  {
   "cell_type": "code",
   "execution_count": null,
   "metadata": {},
   "outputs": [],
   "source": []
  }
 ],
 "metadata": {
  "colab": {
   "collapsed_sections": [],
   "name": "ipl-dive-deep-using-sql.ipynb",
   "provenance": []
  },
  "kernelspec": {
   "display_name": "Python 3 (ipykernel)",
   "language": "python",
   "name": "python3"
  },
  "language_info": {
   "codemirror_mode": {
    "name": "ipython",
    "version": 3
   },
   "file_extension": ".py",
   "mimetype": "text/x-python",
   "name": "python",
   "nbconvert_exporter": "python",
   "pygments_lexer": "ipython3",
   "version": "3.9.7"
  }
 },
 "nbformat": 4,
 "nbformat_minor": 1
}
